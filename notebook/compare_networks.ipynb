{
 "cells": [
  {
   "cell_type": "code",
   "execution_count": 129,
   "id": "a828498e",
   "metadata": {},
   "outputs": [],
   "source": [
    "import numpy as np\n",
    "import pandas as pd\n",
    "import sys\n",
    "sys.path.append(\"../../mg-attention/\")\n",
    "from mgattention.parse_protein_symbols import entrez_dict\n",
    "from mgattention.process_labels.get_labels import get_go_labels\n",
    "\n",
    "def get_labels(proteins,\n",
    "               obofile,\n",
    "               g2gofile,\n",
    "               GOT = \"F\",\n",
    "               min_level = 5,\n",
    "               min_protein_annotation = 50,\n",
    "               symbol_to_id = lambda x:x):\n",
    "    \"\"\"\n",
    "    Get the protein GO labels corresponding to a given protein.\n",
    "    \"\"\"\n",
    "    \n",
    "    go_type = \"molecular_function\"\n",
    "    go_type = \"biological_process\" if GOT==\"P\" else go_type\n",
    "    go_type = \"cellular_component\" if GOT==\"C\" else go_type\n",
    "    \n",
    "    filter_protein = {\"namespace\": go_type, \"lower_bound\": min_protein_annotation}\n",
    "    filter_labels  = {\"namespace\": go_type, \"min_level\": min_level}\n",
    "    f_labels, labels_dict = get_go_labels(filter_protein,\n",
    "                                          filter_labels,\n",
    "                                          proteins,\n",
    "                                          lambda x: x,\n",
    "                                          g2gofile,\n",
    "                                          obofile,\n",
    "                                          verbose = True)\n",
    "    \n",
    "    return f_labels, labels_dict"
   ]
  },
  {
   "cell_type": "markdown",
   "id": "6a18cb82",
   "metadata": {},
   "source": [
    "## <span style=\"color:red\">Get the HuRI human network and the proteins</span>\n",
    "\n",
    "The annotated HuRi network is annotated with entrez Id."
   ]
  },
  {
   "cell_type": "code",
   "execution_count": 15,
   "id": "67925814",
   "metadata": {},
   "outputs": [],
   "source": [
    "huri_network = pd.read_csv(\"HuRi.entrez.tsv\", sep = \"\\t\", header = None)\n",
    "huri_prots   = set(huri_network[0]).union(set(huri_network[1]))"
   ]
  },
  {
   "cell_type": "markdown",
   "id": "4a389cef",
   "metadata": {},
   "source": [
    "## <span style=\"color:red\">Get the STRING human network and the proteins</span>\n",
    "\n",
    "The annotated STRING network is also annotated with entrez Id."
   ]
  },
  {
   "cell_type": "code",
   "execution_count": 11,
   "id": "3bb30ee0",
   "metadata": {},
   "outputs": [],
   "source": [
    "string_network = pd.read_csv(\"human.STRING.entrez.tsv\", sep = \"\\t\", header = None)\n",
    "string_prots   = set(string_network[0]).union(set(string_network[1]))"
   ]
  },
  {
   "cell_type": "markdown",
   "id": "015403ff",
   "metadata": {},
   "source": [
    "## <span style=\"color:red\">Get the SUB-network constructed from the intersection of HuRI and STRING proteins</span>\n",
    "\n",
    "| Desc.          | Freq.|\n",
    "|--------------- |------|\n",
    "|STRING proteins | 7365 |\n",
    "|HuRI proteins   | 8224 |\n",
    "|Intersection    | 3855 |"
   ]
  },
  {
   "cell_type": "code",
   "execution_count": 22,
   "id": "f8a848f0",
   "metadata": {},
   "outputs": [
    {
     "data": {
      "text/plain": [
       "(11475, 13661)"
      ]
     },
     "execution_count": 22,
     "metadata": {},
     "output_type": "execute_result"
    }
   ],
   "source": [
    "cprot = string_prots.intersection(huri_prots)\n",
    "hsub  = ~(huri_network[0].isin(ints) & huri_network[1].isin(ints))\n",
    "ssub  = ~(string_network[0].isin(ints) & string_network[1].isin(ints))\n",
    "\n",
    "huri_net   = huri_network.drop(huri_network.index[hsub])\n",
    "string_net = string_network.drop(string_network.index[ssub])\n",
    "\n",
    "len(huri_net), len(string_net)"
   ]
  },
  {
   "cell_type": "markdown",
   "id": "bfcf26f0",
   "metadata": {},
   "source": [
    "## <span style=\"color:red\"> Get GO labels for the Intersection Proteins </span>\n",
    "\n",
    "The GO terms for MF, BP and CC hierarchies are >= 5"
   ]
  },
  {
   "cell_type": "code",
   "execution_count": 42,
   "id": "d5383cff",
   "metadata": {},
   "outputs": [
    {
     "name": "stdout",
     "output_type": "stream",
     "text": [
      "HMS:0:00:02.150364 335,858 annotations, 20,671 genes, 18,441 GOs, 1 taxids READ: ../../mg-attention/datasets/go/extracted/gene2go \n",
      "18388 IDs in loaded association branch, molecular_function\n",
      "  EXISTS: ../../mg-attention/datasets/go/extracted/go-basic.obo\n",
      "../../mg-attention/datasets/go/extracted/go-basic.obo: fmt(1.2) rel(2021-02-01) 47,291 Terms; optional_attrs(relationship)\n",
      "Labels Obtained! The number of labels obtained is 35\n"
     ]
    }
   ],
   "source": [
    "F_list, labels_F = get_labels(cprot,\n",
    "                   \"../../mg-attention/datasets/go/extracted/go-basic.obo\",\n",
    "                   \"../../mg-attention/datasets/go/extracted/gene2go\",\n",
    "                   GOT = \"F\",\n",
    "                   min_level = 5,\n",
    "                   min_protein_annotation = 20,\n",
    "                   symbol_to_id = lambda x:x)"
   ]
  },
  {
   "cell_type": "code",
   "execution_count": 43,
   "id": "52083051",
   "metadata": {},
   "outputs": [
    {
     "name": "stdout",
     "output_type": "stream",
     "text": [
      "HMS:0:00:03.871301 335,858 annotations, 20,671 genes, 18,441 GOs, 1 taxids READ: ../../mg-attention/datasets/go/extracted/gene2go \n",
      "18388 IDs in loaded association branch, biological_process\n",
      "  EXISTS: ../../mg-attention/datasets/go/extracted/go-basic.obo\n",
      "../../mg-attention/datasets/go/extracted/go-basic.obo: fmt(1.2) rel(2021-02-01) 47,291 Terms; optional_attrs(relationship)\n",
      "Labels Obtained! The number of labels obtained is 44\n"
     ]
    }
   ],
   "source": [
    "P_list, labels_P = get_labels(cprot,\n",
    "                   \"../../mg-attention/datasets/go/extracted/go-basic.obo\",\n",
    "                   \"../../mg-attention/datasets/go/extracted/gene2go\",\n",
    "                   GOT = \"P\",\n",
    "                   min_level = 5,\n",
    "                   min_protein_annotation = 50,\n",
    "                   symbol_to_id = lambda x:x)"
   ]
  },
  {
   "cell_type": "code",
   "execution_count": 44,
   "id": "52c04260",
   "metadata": {},
   "outputs": [
    {
     "name": "stdout",
     "output_type": "stream",
     "text": [
      "HMS:0:00:04.469913 335,858 annotations, 20,671 genes, 18,441 GOs, 1 taxids READ: ../../mg-attention/datasets/go/extracted/gene2go \n",
      "18388 IDs in loaded association branch, cellular_component\n",
      "  EXISTS: ../../mg-attention/datasets/go/extracted/go-basic.obo\n",
      "../../mg-attention/datasets/go/extracted/go-basic.obo: fmt(1.2) rel(2021-02-01) 47,291 Terms; optional_attrs(relationship)\n",
      "Labels Obtained! The number of labels obtained is 40\n"
     ]
    }
   ],
   "source": [
    "C_list, labels_C = get_labels(cprot,\n",
    "                    \"../../mg-attention/datasets/go/extracted/go-basic.obo\",\n",
    "                    \"../../mg-attention/datasets/go/extracted/gene2go\",\n",
    "                    GOT = \"C\",\n",
    "                    min_level = 5,\n",
    "                    min_protein_annotation = 30,\n",
    "                    symbol_to_id = lambda x:x)"
   ]
  },
  {
   "cell_type": "markdown",
   "id": "4c87afd9",
   "metadata": {},
   "source": [
    "## <span style=\"color:red\">Computation of Average RESNIK similarities for Both HURI and STRING </span>"
   ]
  },
  {
   "cell_type": "code",
   "execution_count": 35,
   "id": "e982b368",
   "metadata": {},
   "outputs": [
    {
     "name": "stdout",
     "output_type": "stream",
     "text": [
      "../../mg-attention/datasets/go/extracted/go-basic.obo: fmt(1.2) rel(2021-02-01) 47,291 Terms\n",
      "HMS:0:00:12.848073 608,616 annotations READ: ../../mg-attention/datasets/go/extracted/go-human.gaf \n",
      "18053 IDs in loaded association branch, MF\n",
      "HMS:0:00:12.493695 608,616 annotations READ: ../../mg-attention/datasets/go/extracted/go-human.gaf \n",
      "17586 IDs in loaded association branch, BP\n",
      "HMS:0:00:11.791421 608,616 annotations READ: ../../mg-attention/datasets/go/extracted/go-human.gaf \n",
      "18859 IDs in loaded association branch, CC\n"
     ]
    }
   ],
   "source": [
    "from goatools.obo_parser import GODag\n",
    "from goatools.associations import read_gaf\n",
    "from goatools.semantic import TermCounts, get_info_content\n",
    "from goatools.semantic import resnik_sim\n",
    "\n",
    "\n",
    "godag = GODag(\"../../mg-attention/datasets/go/extracted/go-basic.obo\")\n",
    "assoc_f = read_gaf(\"../../mg-attention/datasets/go/extracted/go-human.gaf\", namespace = \"MF\")\n",
    "assoc_p = read_gaf(\"../../mg-attention/datasets/go/extracted/go-human.gaf\", namespace = \"BP\")\n",
    "assoc_c = read_gaf(\"../../mg-attention/datasets/go/extracted/go-human.gaf\", namespace = \"CC\")\n",
    "\n",
    "tcount_f = TermCounts(godag, assoc_f)\n",
    "tcount_p = TermCounts(godag, assoc_p)\n",
    "tcount_c = TermCounts(godag, assoc_c)"
   ]
  },
  {
   "cell_type": "code",
   "execution_count": 63,
   "id": "30a77910",
   "metadata": {},
   "outputs": [],
   "source": [
    "def sem_similarity_(go_id, go_ids, go_dag, term_counts, avg = False):\n",
    "    \"\"\"\n",
    "    If avg == True, compute the average Resnik Similarity Instead.\n",
    "    \"\"\"\n",
    "    sims = [resnik_sim(go_id, go_i, go_dag, term_counts) for go_i in go_ids]\n",
    "    if avg:\n",
    "        return np.average(sims)\n",
    "    return np.max(sims)\n",
    "    \n",
    "def sem_similarity(gois_1, gois_2, go_dag, term_counts, avg = False):\n",
    "    \"\"\"\n",
    "    If avg == True, use the average Resnik Similarity, provided in Pandey et. al.\n",
    "    https://academic.oup.com/bioinformatics/article/24/16/i28/201569\n",
    "    \"\"\"\n",
    "    if avg:\n",
    "        sims = [sem_similarity_(g1, gois_2, go_dag, term_counts) for g1 in gois_1]\n",
    "        return np.average(sims)"
   ]
  },
  {
   "cell_type": "code",
   "execution_count": 64,
   "id": "9c2e957a",
   "metadata": {},
   "outputs": [],
   "source": [
    "def get_prot_lab_map(labels):\n",
    "    prot_maps = {}\n",
    "    for l in labels:\n",
    "        for prot in list(labels[l]):\n",
    "            if prot not in prot_maps:\n",
    "                prot_maps[prot]  = [l]\n",
    "            else:\n",
    "                prot_maps[prot] += [l]\n",
    "    return prot_maps\n",
    "\n",
    "prot_F = get_prot_lab_map(labels_F)\n",
    "prot_P = get_prot_lab_map(labels_P)\n",
    "prot_C = get_prot_lab_map(labels_C)"
   ]
  },
  {
   "cell_type": "code",
   "execution_count": 69,
   "id": "d5975925",
   "metadata": {},
   "outputs": [],
   "source": [
    "avg_results = {\"MF\": [], \"BP\": [], \"CC\": []}\n",
    "\n",
    "hcf = 0\n",
    "hcp = 0\n",
    "hcc = 0\n",
    "semf = 0.\n",
    "semp = 0.\n",
    "semc = 0.\n",
    "for i, row in huri_net.iterrows():\n",
    "    if row[0] in prot_F and row[1] in prot_F:\n",
    "        sem   = sem_similarity(prot_F[row[0]], prot_F[row[1]], godag, tcount_f, avg = True)\n",
    "        if sem != None:\n",
    "            semf += sem\n",
    "            hcf  += 1\n",
    "    if row[0] in prot_P and row[1] in prot_P:\n",
    "        sem   = sem_similarity(prot_P[row[0]], prot_P[row[1]], godag, tcount_p, avg = True)\n",
    "        if sem != None:\n",
    "            semp += sem\n",
    "            hcp  += 1    \n",
    "    if row[0] in prot_C and row[1] in prot_C:\n",
    "        sem   = sem_similarity(prot_C[row[0]], prot_C[row[1]], godag, tcount_c, avg = True)\n",
    "        if sem != None:\n",
    "            semc += sem\n",
    "            hcc  += 1\n",
    "semf /= hcf\n",
    "semc /= hcc\n",
    "semp /= hcp\n",
    "\n",
    "avg_results[\"MF\"] += [semf]\n",
    "avg_results[\"BP\"] += [semp]\n",
    "avg_results[\"CC\"] += [semc]\n",
    "#ss_F = lambda row: sem_similarity(prot_F[row[0]], prot_F[row[1]], go_dag, term_counts, avg = True) if row[0] in prot_F and row[1] in prot_F else 0\n",
    "#x    = huri_net.apply(ss_F)\n",
    "# Average for HURI"
   ]
  },
  {
   "cell_type": "code",
   "execution_count": 70,
   "id": "6791eabf",
   "metadata": {},
   "outputs": [
    {
     "data": {
      "text/plain": [
       "{'MF': [1.2335388762249162, 1.511353394777959],\n",
       " 'BP': [1.4047323355542256, 2.781250031037516],\n",
       " 'CC': [1.0680052204453478, 1.4615708925529265]}"
      ]
     },
     "execution_count": 70,
     "metadata": {},
     "output_type": "execute_result"
    }
   ],
   "source": [
    "hcf = 0\n",
    "hcp = 0\n",
    "hcc = 0\n",
    "semf = 0.\n",
    "semp = 0.\n",
    "semc = 0.\n",
    "for i, row in string_net.iterrows():\n",
    "    if row[0] in prot_F and row[1] in prot_F:\n",
    "        sem   = sem_similarity(prot_F[row[0]], prot_F[row[1]], godag, tcount_f, avg = True)\n",
    "        if sem != None:\n",
    "            semf += sem\n",
    "            hcf  += 1\n",
    "    if row[0] in prot_P and row[1] in prot_P:\n",
    "        sem   = sem_similarity(prot_P[row[0]], prot_P[row[1]], godag, tcount_p, avg = True)\n",
    "        if sem != None:\n",
    "            semp += sem\n",
    "            hcp  += 1    \n",
    "    if row[0] in prot_C and row[1] in prot_C:\n",
    "        sem   = sem_similarity(prot_C[row[0]], prot_C[row[1]], godag, tcount_c, avg = True)\n",
    "        if sem != None:\n",
    "            semc += sem\n",
    "            hcc  += 1\n",
    "semf /= hcf\n",
    "semc /= hcc\n",
    "semp /= hcp\n",
    "\n",
    "avg_results[\"MF\"] += [semf]\n",
    "avg_results[\"BP\"] += [semp]\n",
    "avg_results[\"CC\"] += [semc]\n",
    "avg_results"
   ]
  },
  {
   "cell_type": "code",
   "execution_count": 71,
   "id": "9fa02295",
   "metadata": {},
   "outputs": [
    {
     "data": {
      "text/html": [
       "<div>\n",
       "<style scoped>\n",
       "    .dataframe tbody tr th:only-of-type {\n",
       "        vertical-align: middle;\n",
       "    }\n",
       "\n",
       "    .dataframe tbody tr th {\n",
       "        vertical-align: top;\n",
       "    }\n",
       "\n",
       "    .dataframe thead th {\n",
       "        text-align: right;\n",
       "    }\n",
       "</style>\n",
       "<table border=\"1\" class=\"dataframe\">\n",
       "  <thead>\n",
       "    <tr style=\"text-align: right;\">\n",
       "      <th></th>\n",
       "      <th>MF</th>\n",
       "      <th>BP</th>\n",
       "      <th>CC</th>\n",
       "    </tr>\n",
       "    <tr>\n",
       "      <th>Network</th>\n",
       "      <th></th>\n",
       "      <th></th>\n",
       "      <th></th>\n",
       "    </tr>\n",
       "  </thead>\n",
       "  <tbody>\n",
       "    <tr>\n",
       "      <th>HuRI</th>\n",
       "      <td>1.233539</td>\n",
       "      <td>1.404732</td>\n",
       "      <td>1.068005</td>\n",
       "    </tr>\n",
       "    <tr>\n",
       "      <th>STRING-HUMAN</th>\n",
       "      <td>1.511353</td>\n",
       "      <td>2.781250</td>\n",
       "      <td>1.461571</td>\n",
       "    </tr>\n",
       "  </tbody>\n",
       "</table>\n",
       "</div>"
      ],
      "text/plain": [
       "                    MF        BP        CC\n",
       "Network                                   \n",
       "HuRI          1.233539  1.404732  1.068005\n",
       "STRING-HUMAN  1.511353  2.781250  1.461571"
      ]
     },
     "execution_count": 71,
     "metadata": {},
     "output_type": "execute_result"
    }
   ],
   "source": [
    "df_results = pd.DataFrame(avg_results)\n",
    "df_results[\"Network\"] = [\"HuRI\", \"STRING-HUMAN\"]"
   ]
  },
  {
   "cell_type": "markdown",
   "id": "9617ba92",
   "metadata": {},
   "source": [
    "## <span style=\"color:red\">RESNIK Results for HURI And STRING ON THE SAME NETWORK</span>"
   ]
  },
  {
   "cell_type": "code",
   "execution_count": 76,
   "id": "d41ad26a",
   "metadata": {},
   "outputs": [
    {
     "data": {
      "text/html": [
       "<div>\n",
       "<style scoped>\n",
       "    .dataframe tbody tr th:only-of-type {\n",
       "        vertical-align: middle;\n",
       "    }\n",
       "\n",
       "    .dataframe tbody tr th {\n",
       "        vertical-align: top;\n",
       "    }\n",
       "\n",
       "    .dataframe thead th {\n",
       "        text-align: right;\n",
       "    }\n",
       "</style>\n",
       "<table border=\"1\" class=\"dataframe\">\n",
       "  <thead>\n",
       "    <tr style=\"text-align: right;\">\n",
       "      <th></th>\n",
       "      <th>MF</th>\n",
       "      <th>BP</th>\n",
       "      <th>CC</th>\n",
       "    </tr>\n",
       "    <tr>\n",
       "      <th>Network</th>\n",
       "      <th></th>\n",
       "      <th></th>\n",
       "      <th></th>\n",
       "    </tr>\n",
       "  </thead>\n",
       "  <tbody>\n",
       "    <tr>\n",
       "      <th>HuRI</th>\n",
       "      <td>1.233539</td>\n",
       "      <td>1.404732</td>\n",
       "      <td>1.068005</td>\n",
       "    </tr>\n",
       "    <tr>\n",
       "      <th>STRING-HUMAN</th>\n",
       "      <td>1.511353</td>\n",
       "      <td>2.781250</td>\n",
       "      <td>1.461571</td>\n",
       "    </tr>\n",
       "  </tbody>\n",
       "</table>\n",
       "</div>"
      ],
      "text/plain": [
       "                    MF        BP        CC\n",
       "Network                                   \n",
       "HuRI          1.233539  1.404732  1.068005\n",
       "STRING-HUMAN  1.511353  2.781250  1.461571"
      ]
     },
     "execution_count": 76,
     "metadata": {},
     "output_type": "execute_result"
    }
   ],
   "source": [
    "df_results = df_results.set_index(\"Network\")\n",
    "df_results.to_csv(\"huri_string_results.tsv\", sep = \"\\t\")\n",
    "df_results"
   ]
  },
  {
   "cell_type": "markdown",
   "id": "257d4490",
   "metadata": {},
   "source": [
    "## <span style=\"color:red\">5-fold Cross-validation on the STRING AND HuRI Networks </span> "
   ]
  },
  {
   "cell_type": "code",
   "execution_count": 91,
   "id": "3ee196ad",
   "metadata": {},
   "outputs": [],
   "source": [
    "from scoring import kfoldcv, kfoldcv_sim, kfoldcv_with_pr\n",
    "import numpy as np\n",
    "import predict\n",
    "\n",
    "def create_predictor(similarity_matrix, is_wt, confidence = True):\n",
    "    def predictor(training_labels):\n",
    "        tlabels_f = lambda i: (training_labels[i] if i in training_labels else [])\n",
    "        if is_wt:\n",
    "            return predict.wmv(similarity_matrix, tlabels_f, confidence = confidence)\n",
    "        else:\n",
    "            return predict.mv(similarity_matrix, tlabels_f, confidence = confidence)\n",
    "    return predictor\n",
    "\n",
    "def net_to_mat(df_net, prot):\n",
    "    protmap = {k:i for i, k in enumerate(prot)}\n",
    "    A       = np.zeros((len(protmap), len(protmap)))\n",
    "    for i, r in df_net.iterrows():\n",
    "        p = protmap[r[0]]\n",
    "        q = protmap[r[1]]\n",
    "        A[p, q] = 1.0\n",
    "        A[q, p] = 1.0\n",
    "    return protmap, A\n",
    "\n"
   ]
  },
  {
   "cell_type": "code",
   "execution_count": 80,
   "id": "d306ac65",
   "metadata": {},
   "outputs": [],
   "source": [
    "map_S, string_A = net_to_mat(string_net, cprot)\n",
    "map_H, huri_A   = net_to_mat(huri_net, cprot)"
   ]
  },
  {
   "cell_type": "code",
   "execution_count": 83,
   "id": "1941fed0",
   "metadata": {},
   "outputs": [],
   "source": [
    "pid_F = {map_S[key]:val for key, val in prot_F.items()}\n",
    "pid_P = {map_S[key]:val for key, val in prot_P.items()}\n",
    "pid_C = {map_S[key]:val for key, val in prot_C.items()}"
   ]
  },
  {
   "cell_type": "code",
   "execution_count": 98,
   "id": "d0b8dcbb",
   "metadata": {},
   "outputs": [],
   "source": [
    "results = {\"acc_F\": [], \"acc_P\": [], \"acc_C\": [], \"f1_P\": [], \"f1_C\": []}"
   ]
  },
  {
   "cell_type": "code",
   "execution_count": 99,
   "id": "e8eb5c5e",
   "metadata": {},
   "outputs": [],
   "source": [
    "acc_f_huri = kfoldcv(5,\n",
    "                     pid_F,\n",
    "                     create_predictor(huri_A, is_wt = True, confidence = False) \n",
    "                    )\n",
    "acc_f_string = kfoldcv(5,\n",
    "                     pid_F,\n",
    "                     create_predictor(string_A, is_wt = True, confidence = False) \n",
    "                    )\n",
    "\n",
    "results[\"acc_F\"] = [np.average(k) for k in [acc_f_huri, acc_f_string]]\n",
    "\n",
    "acc_p_huri = kfoldcv(5,\n",
    "                     pid_P,\n",
    "                     create_predictor(huri_A, is_wt = True, confidence = False) \n",
    "                    )\n",
    "acc_p_string = kfoldcv(5,\n",
    "                     pid_P,\n",
    "                     create_predictor(string_A, is_wt = True, confidence = False) \n",
    "                    )\n",
    "\n",
    "results[\"acc_P\"] = [np.average(k) for k in [acc_p_huri, acc_p_string]]\n",
    "\n",
    "acc_c_huri = kfoldcv(5,\n",
    "                     pid_C,\n",
    "                     create_predictor(huri_A, is_wt = True, confidence = False) \n",
    "                    )\n",
    "acc_c_string = kfoldcv(5,\n",
    "                     pid_C,\n",
    "                     create_predictor(string_A, is_wt = True, confidence = False) \n",
    "                    )\n",
    "\n",
    "results[\"acc_C\"] = [np.average(k) for k in [acc_c_huri, acc_c_string]]\n",
    "\n"
   ]
  },
  {
   "cell_type": "code",
   "execution_count": 100,
   "id": "636f53a9",
   "metadata": {},
   "outputs": [],
   "source": [
    "f1_f_huri = kfoldcv_with_pr(5,\n",
    "                     pid_F,\n",
    "                     create_predictor(huri_A, is_wt = True) \n",
    "                    )\n",
    "f1_f_string = kfoldcv_with_pr(5,\n",
    "                     pid_F,\n",
    "                     create_predictor(string_A, is_wt = True) \n",
    "                    )\n",
    "\n",
    "results[\"f1_F\"] = [np.average(k) for k in [f1_f_huri, f1_f_string]]\n",
    "\n",
    "f1_p_huri = kfoldcv_with_pr(5,\n",
    "                     pid_P,\n",
    "                     create_predictor(huri_A, is_wt = True) \n",
    "                    )\n",
    "f1_p_string = kfoldcv_with_pr(5,\n",
    "                     pid_P,\n",
    "                     create_predictor(string_A, is_wt = True) \n",
    "                    )\n",
    "\n",
    "results[\"f1_P\"] = [np.average(k) for k in [f1_p_huri, f1_p_string]]\n",
    "\n",
    "f1_c_huri = kfoldcv_with_pr(5,\n",
    "                     pid_C,\n",
    "                     create_predictor(huri_A, is_wt = True) \n",
    "                    )\n",
    "f1_c_string = kfoldcv_with_pr(5,\n",
    "                     pid_C,\n",
    "                     create_predictor(string_A, is_wt = True) \n",
    "                    )\n",
    "\n",
    "results[\"f1_C\"] = [np.average(k) for k in [f1_c_huri, f1_c_string]]\n",
    "\n"
   ]
  },
  {
   "cell_type": "code",
   "execution_count": 105,
   "id": "76f99ecf",
   "metadata": {},
   "outputs": [],
   "source": [
    "df_mv = pd.DataFrame(results)"
   ]
  },
  {
   "cell_type": "code",
   "execution_count": 106,
   "id": "1c3f1ef1",
   "metadata": {},
   "outputs": [],
   "source": [
    "df_mv[\"network\"] = [\"HuRI\", \"STRING\"]"
   ]
  },
  {
   "cell_type": "code",
   "execution_count": 107,
   "id": "3d7a6d2f",
   "metadata": {},
   "outputs": [
    {
     "data": {
      "text/html": [
       "<div>\n",
       "<style scoped>\n",
       "    .dataframe tbody tr th:only-of-type {\n",
       "        vertical-align: middle;\n",
       "    }\n",
       "\n",
       "    .dataframe tbody tr th {\n",
       "        vertical-align: top;\n",
       "    }\n",
       "\n",
       "    .dataframe thead th {\n",
       "        text-align: right;\n",
       "    }\n",
       "</style>\n",
       "<table border=\"1\" class=\"dataframe\">\n",
       "  <thead>\n",
       "    <tr style=\"text-align: right;\">\n",
       "      <th></th>\n",
       "      <th>acc_F</th>\n",
       "      <th>acc_P</th>\n",
       "      <th>acc_C</th>\n",
       "      <th>f1_P</th>\n",
       "      <th>f1_C</th>\n",
       "      <th>f1_F</th>\n",
       "    </tr>\n",
       "    <tr>\n",
       "      <th>network</th>\n",
       "      <th></th>\n",
       "      <th></th>\n",
       "      <th></th>\n",
       "      <th></th>\n",
       "      <th></th>\n",
       "      <th></th>\n",
       "    </tr>\n",
       "  </thead>\n",
       "  <tbody>\n",
       "    <tr>\n",
       "      <th>HuRI</th>\n",
       "      <td>0.13625</td>\n",
       "      <td>0.177971</td>\n",
       "      <td>0.370664</td>\n",
       "      <td>0.231698</td>\n",
       "      <td>0.399948</td>\n",
       "      <td>0.215309</td>\n",
       "    </tr>\n",
       "    <tr>\n",
       "      <th>STRING</th>\n",
       "      <td>0.28000</td>\n",
       "      <td>0.363338</td>\n",
       "      <td>0.523400</td>\n",
       "      <td>0.405783</td>\n",
       "      <td>0.546200</td>\n",
       "      <td>0.340412</td>\n",
       "    </tr>\n",
       "  </tbody>\n",
       "</table>\n",
       "</div>"
      ],
      "text/plain": [
       "           acc_F     acc_P     acc_C      f1_P      f1_C      f1_F\n",
       "network                                                           \n",
       "HuRI     0.13625  0.177971  0.370664  0.231698  0.399948  0.215309\n",
       "STRING   0.28000  0.363338  0.523400  0.405783  0.546200  0.340412"
      ]
     },
     "execution_count": 107,
     "metadata": {},
     "output_type": "execute_result"
    }
   ],
   "source": [
    "df_mv.set_index(\"network\")"
   ]
  },
  {
   "cell_type": "code",
   "execution_count": 108,
   "id": "42a721d8",
   "metadata": {},
   "outputs": [],
   "source": [
    "df_mv.to_csv(\"mv_results.tsv\", sep = \"\\t\")"
   ]
  },
  {
   "cell_type": "markdown",
   "id": "2d4a3322",
   "metadata": {},
   "source": [
    "## <span style=\"color:red\">Comparing HURI Training Results between Topsy-Turvy and D-SCRIPT </span> "
   ]
  },
  {
   "cell_type": "code",
   "execution_count": 128,
   "id": "5ce7134e",
   "metadata": {},
   "outputs": [
    {
     "data": {
      "text/plain": [
       "<AxesSubplot:xlabel='iteration'>"
      ]
     },
     "execution_count": 128,
     "metadata": {},
     "output_type": "execute_result"
    },
    {
     "data": {
      "image/png": "[encoded data removed]",
      "text/plain": [
       "<Figure size 432x288 with 1 Axes>"
      ]
     },
     "metadata": {},
     "output_type": "display_data"
    }
   ],
   "source": [
    "import numpy as np\n",
    "import seaborn as sns\n",
    "import pandas as pd\n",
    "sns.set_theme(style = \"ticks\")\n",
    "\n",
    "ds_h = [0.263, 0.418, 0.305, 0.442, 0.384, 0.252, 0.441, 0.431]\n",
    "tt_h = [0.298, 0.279, 0.293, 0.219, 0.226, 0.263, 0.211, 0.137]\n",
    "\n",
    "ds_iter = np.arange(8) + 1\n",
    "\n",
    "results = {\"iteration\": ds_iter, \"Topsy-Turvy\": tt_h, \"D-SCRIPT\": ds_h}\n",
    "\n",
    "df_res  = pd.DataFrame(results)\n",
    "\n",
    "df_res = df_res.set_index('iteration')\n",
    "sns.lineplot(data = df_res, markers = True)"
   ]
  },
  {
   "cell_type": "code",
   "execution_count": null,
   "id": "7979020a",
   "metadata": {},
   "outputs": [],
   "source": [
    "\"\"\"\n",
    "1) Degree Distribution Histogram of all of String, All of huri, string subnetwork and huri subnetwork. Hubs???\n",
    "2) Redo resnik for all of STRING + all of GO\n",
    "3) Redo the predictor: which filters out nodes based on degrees\n",
    "4) Enzyme classification number. xxx\n",
    "5) Threshold issue??? xxx\n",
    "\"\"\"\n"
   ]
  }
 ],
 "metadata": {
  "kernelspec": {
   "display_name": "Python 3 (ipykernel)",
   "language": "python",
   "name": "python3"
  },
  "language_info": {
   "codemirror_mode": {
    "name": "ipython",
    "version": 3
   },
   "file_extension": ".py",
   "mimetype": "text/x-python",
   "name": "python",
   "nbconvert_exporter": "python",
   "pygments_lexer": "ipython3",
   "version": "3.7.12"
  }
 },
 "nbformat": 4,
 "nbformat_minor": 5
}
